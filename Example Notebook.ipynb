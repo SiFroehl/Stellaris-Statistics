{
 "cells": [
  {
   "cell_type": "code",
   "execution_count": null,
   "id": "20f53b2a",
   "metadata": {
    "scrolled": false
   },
   "outputs": [],
   "source": [
    "from importlib import reload\n",
    "import copy_script\n",
    "import GameDictConverter as gdc\n",
    "import matplotlib.pyplot as plt"
   ]
  },
  {
   "cell_type": "code",
   "execution_count": null,
   "id": "09585e39",
   "metadata": {},
   "outputs": [],
   "source": [
    "# Use this if you have edited copy_script or GameDictConverter while this notebook was running\n",
    "reload(copy_script)\n",
    "reload(gdc)"
   ]
  },
  {
   "cell_type": "code",
   "execution_count": null,
   "id": "474ba090",
   "metadata": {},
   "outputs": [],
   "source": [
    "# Sets the last played game as the currently observed game\n",
    "# This only detects games where at least one save has taken place so you need to play to at least one autosave!\n",
    "copy_script.init(autoselect_newest=True)"
   ]
  },
  {
   "cell_type": "code",
   "execution_count": null,
   "id": "048d77fa",
   "metadata": {},
   "outputs": [],
   "source": [
    "# Starts the copying process *in a new thread*\n",
    "copy_script.start_copy()"
   ]
  },
  {
   "cell_type": "code",
   "execution_count": null,
   "id": "5dcab802",
   "metadata": {},
   "outputs": [],
   "source": [
    "# Sets a flag to stop the copy thread\n",
    "copy_script.stop_copy()"
   ]
  },
  {
   "cell_type": "code",
   "execution_count": null,
   "id": "6dcd103a",
   "metadata": {
    "scrolled": true
   },
   "outputs": [],
   "source": [
    "# Creates a timeline like dictionary for the current and another save\n",
    "meta_dict = gdc.load_all_game_dicts(copy_script.save_game)\n",
    "other_save_name = \"cirrulanstarcooperative2_2143221768\"\n",
    "meta_dict2 = gdc.load_all_game_dicts(other_save_name)"
   ]
  },
  {
   "cell_type": "code",
   "execution_count": null,
   "id": "eedf45ee",
   "metadata": {},
   "outputs": [],
   "source": [
    "# Extends the basic game dicts (adds GDP etc.)\n",
    "extended, res_dict = gdc.extend_empire_base_array(*gdc.create_empire_base_array(copy_script.save_game,\"0\",meta_dict=meta_dict))\n",
    "extended2, res_dict2 = gdc.extend_empire_base_array(*gdc.create_empire_base_array(other_save_name,\"0\",meta_dict=meta_dict2))"
   ]
  },
  {
   "cell_type": "code",
   "execution_count": null,
   "id": "694d33c5",
   "metadata": {},
   "outputs": [],
   "source": [
    "# Plot the GDP for the main player empire in the previously loaded saves\n",
    "import matplotlib.pyplot as plt\n",
    "time_conv = gdc.get_time_conversion(copy_script.save_game)\n",
    "time_conv2 = gdc.get_time_conversion(other_save_name)\n",
    "plt.plot(time_conv,extended[:,-2,0], label=\"Without research & unity\")\n",
    "plt.plot(time_conv,extended[:,-1,0], label=\"With research & unity\")\n",
    "plt.plot(time_conv2,extended2[:,-2,0], label=\"Without research & unity\")\n",
    "plt.plot(time_conv2,extended2[:,-1,0], label=\"With research & unity\")\n",
    "plt.xlabel(\"Time\")\n",
    "plt.ylabel(\"BIP [EC-equivalent]\")\n",
    "plt.legend()\n",
    "plt.savefig(\"BIP.png\",dpi=600)"
   ]
  },
  {
   "cell_type": "code",
   "execution_count": null,
   "id": "5a13e2f7",
   "metadata": {},
   "outputs": [],
   "source": [
    "# Neater printing for dicts, there is probably some library for it...\n",
    "def nice_print(val, label=\"\", depth=0):\n",
    "    if isinstance(val, dict):\n",
    "        print(\" \"*4*depth + label + \":{ \")\n",
    "        for key,value in val.items():\n",
    "            nice_print(value, key, depth+1)\n",
    "        print(\" \"*4*depth + \"} \")\n",
    "    else:\n",
    "        print(\" \"*4*depth + label + \": \" + val)"
   ]
  },
  {
   "cell_type": "code",
   "execution_count": null,
   "id": "e2db2a5b",
   "metadata": {},
   "outputs": [],
   "source": [
    "# Some other basic plots and showcase of the generate_time_series function\n",
    "nice_print(meta_dict['gamestate_2246.01.01.json'][\"country\"][\"0\"][\"tech_status\"])\n",
    "time_conv = gdc.get_time_conversion(copy_script.save_game)\n",
    "\n",
    "#print(meta_dict['gamestate_2246.01.01.json'][\"country\"][\"0\"].keys())\n",
    "employable_pops = gdc.generate_time_series(meta_dict, [\"country\",\"0\",\"employable_pops\"], conversion=lambda x: int(x))\n",
    "military_power = gdc.generate_time_series(meta_dict, [\"country\",\"0\",\"military_power\"], conversion=lambda x: float(x))\n",
    "economy_power = gdc.generate_time_series(meta_dict, [\"country\",\"0\",\"economy_power\"], conversion=lambda x: float(x))\n",
    "victory_rank = gdc.generate_time_series(meta_dict, [\"country\",\"0\",\"victory_rank\"], conversion=lambda x: int(x))\n",
    "victory_score = gdc.generate_time_series(meta_dict, [\"country\",\"0\",\"victory_score\"], conversion=lambda x: float(x))\n",
    "sapient = gdc.generate_time_series(meta_dict, [\"country\",\"0\",\"sapient\"], conversion=lambda x: int(x))\n",
    "num_upgraded_starbase = gdc.generate_time_series(meta_dict, [\"country\",\"0\",\"num_upgraded_starbase\"], conversion=lambda x: int(x))\n",
    "starbase_capacity = gdc.generate_time_series(meta_dict, [\"country\",\"0\",\"starbase_capacity\"], conversion=lambda x: int(x))\n",
    "\n",
    "plt.plot(time_conv,economy_power)\n",
    "plt.show()\n",
    "plt.plot(time_conv,military_power)"
   ]
  },
  {
   "cell_type": "code",
   "execution_count": null,
   "id": "83277b1e",
   "metadata": {},
   "outputs": [],
   "source": [
    "# Some more complex usages, I'm not explaining it as it's a mess and I wrote it months (only god knows what it does now)\n",
    "conv,_ = gdc.get_all_empires(meta_dict)\n",
    "time_conv = gdc.get_time_conversion(copy_script.save_game)\n",
    "l = conv.items()\n",
    "print(conv)\n",
    "#l = {k:v for k,v in conv.items() if (v != k) and (\"_\" not in k) and (len(k)>2)}.items()\n",
    "l = {k:v for k,v in conv.items() if (int(v)<50) and (\"_\" not in k) and (len(k)>0)}.items()\n",
    "for name, empire_id in l:\n",
    "    arr, res_dict = gdc.create_empire_base_array(copy_script.save_game, empire_id, meta_dict=meta_dict)\n",
    "    extended, ex_res_dict = gdc.extend_empire_base_array(arr, res_dict)\n",
    "    if empire_id == \"0\":\n",
    "        plt.plot(time_conv,extended[:,-1,2], label=name, color=\"black\")\n",
    "    else:\n",
    "        plt.plot(time_conv,extended[:,-1,2], label=name, alpha=0.5)\n",
    "plt.xlabel(\"Year\")\n",
    "plt.ylabel(\"NIP\")\n",
    "plt.show()\n",
    "\n",
    "for name, empire_id in l:\n",
    "    arr, res_dict = gdc.create_empire_base_array(copy_script.save_game, empire_id, meta_dict=meta_dict)\n",
    "    extended, ex_res_dict = gdc.extend_empire_base_array(arr, res_dict)\n",
    "    if empire_id == \"0\":\n",
    "        plt.plot(time_conv,extended[:,-1,0], label=name, color=\"black\")\n",
    "        plt.plot(time_conv,extended[:,-2,0], label=name, color=\"black\", linestyle=\"--\")\n",
    "    else:\n",
    "        plt.plot(time_conv,extended[:,-1,0], label=name, alpha=0.5)\n",
    "        plt.plot(time_conv,extended[:,-2,0], label=name, alpha=0.5, linestyle=\"--\")\n",
    "plt.xlabel(\"Year\")\n",
    "plt.ylabel(\"BIP\")\n",
    "plt.show()\n",
    "\n",
    "print(res_dict)\n",
    "\n",
    "for name, empire_id in l:\n",
    "    arr, res_dict = gdc.create_empire_base_array(copy_script.save_game, empire_id, meta_dict=meta_dict)\n",
    "    extended, ex_res_dict = gdc.extend_empire_base_array(arr, res_dict)\n",
    "    if empire_id == \"0\":\n",
    "        plt.plot(time_conv,extended[:,5,0]+extended[:,6,0]+extended[:,7,0], label=name, color=\"black\")\n",
    "    else:\n",
    "        plt.plot(time_conv,extended[:,5,0]+extended[:,6,0]+extended[:,7,0], label=name, alpha=0.5)\n",
    "plt.xlabel(\"Year\")\n",
    "plt.ylabel(\"Research\")\n",
    "plt.show()"
   ]
  }
 ],
 "metadata": {
  "kernelspec": {
   "display_name": "Python 3",
   "language": "python",
   "name": "python3"
  },
  "language_info": {
   "codemirror_mode": {
    "name": "ipython",
    "version": 3
   },
   "file_extension": ".py",
   "mimetype": "text/x-python",
   "name": "python",
   "nbconvert_exporter": "python",
   "pygments_lexer": "ipython3",
   "version": "3.9.13"
  }
 },
 "nbformat": 4,
 "nbformat_minor": 5
}
